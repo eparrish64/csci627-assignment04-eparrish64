{
 "cells": [
  {
   "cell_type": "markdown",
   "metadata": {},
   "source": [
    "# Assignment04 - Jupyter, R and Plotting\n",
    "\n",
    "This is based on *Data Visualization in R with ggplot2* from lynda.com\n",
    "\n",
    "## Introducing ggplot2"
   ]
  },
  {
   "cell_type": "markdown",
   "metadata": {},
   "source": [
    "<span style=\"color:red\">1. Install packages `tidyverse` and `ggmap`</span>"
   ]
  },
  {
   "cell_type": "code",
   "execution_count": null,
   "metadata": {},
   "outputs": [],
   "source": []
  },
  {
   "cell_type": "markdown",
   "metadata": {},
   "source": [
    "<span style=\"color:red\">2. Load the `tidyverse` library.</span>"
   ]
  },
  {
   "cell_type": "code",
   "execution_count": null,
   "metadata": {},
   "outputs": [],
   "source": []
  },
  {
   "cell_type": "markdown",
   "metadata": {},
   "source": [
    "<span style=\"color:red\">3. Load the dataset *college.csv* from the Data directory included within your repository and display the top of the file using the `head` function.</span>"
   ]
  },
  {
   "cell_type": "code",
   "execution_count": null,
   "metadata": {},
   "outputs": [],
   "source": []
  },
  {
   "cell_type": "markdown",
   "metadata": {},
   "source": [
    "<span style=\"color:red\">4. Using the R `summary` function, to produce a summary of the dataset.</span>"
   ]
  },
  {
   "cell_type": "code",
   "execution_count": null,
   "metadata": {},
   "outputs": [],
   "source": []
  },
  {
   "cell_type": "markdown",
   "metadata": {},
   "source": [
    "<span style=\"color:red\">5. What is a factor in R, write your answer in the cell below. (*You will need to make sure the cell has been changed to a markdown cell.*)</span>"
   ]
  },
  {
   "cell_type": "markdown",
   "metadata": {},
   "source": []
  },
  {
   "cell_type": "markdown",
   "metadata": {},
   "source": [
    "<span style=\"color:red\">6. Use the R `mutate` function to convert the columns state, region, highest_degree, control, gender to a factor variable, `mutate` loan_default to a numeric value rerun the `summary` function.</span>"
   ]
  },
  {
   "cell_type": "code",
   "execution_count": null,
   "metadata": {},
   "outputs": [],
   "source": []
  },
  {
   "cell_type": "markdown",
   "metadata": {},
   "source": [
    "## Geometry Types and Aesthetics"
   ]
  },
  {
   "cell_type": "markdown",
   "metadata": {},
   "source": [
    "<span style=\"color:red\">7. Produce a scatterplot using the R function `ggplot` to produce a scatterplot where the *tuition* variable is plotted on x axis, *sat_avg* variable is plotted on y axis, color the marks by the *control* variable, and set the size to be determined by *undergrads* variable; address the overplotting of points by varying the alpha value until the plot looks good to you.</span>"
   ]
  },
  {
   "cell_type": "code",
   "execution_count": null,
   "metadata": {},
   "outputs": [],
   "source": []
  },
  {
   "cell_type": "markdown",
   "metadata": {},
   "source": [
    "<span style=\"color:red\">8. Plot a fitted line over the plot from question 6. using the loess method, remove the standard error aesthetic that the `geom_smooth` function adds by default, adjust the transpancncy of points to maximize readability of your final plot."
   ]
  },
  {
   "cell_type": "code",
   "execution_count": null,
   "metadata": {},
   "outputs": [],
   "source": []
  },
  {
   "cell_type": "markdown",
   "metadata": {},
   "source": [
    "<span style=\"color:red\">9. Produce a bar chart showing the breakdown by region of public and private schools."
   ]
  },
  {
   "cell_type": "code",
   "execution_count": null,
   "metadata": {},
   "outputs": [],
   "source": []
  },
  {
   "cell_type": "markdown",
   "metadata": {},
   "source": [
    "<span style=\"color:red\">10. Produce a new bar chart comparing the average tuition for each region.</span>"
   ]
  },
  {
   "cell_type": "code",
   "execution_count": null,
   "metadata": {},
   "outputs": [],
   "source": []
  },
  {
   "cell_type": "markdown",
   "metadata": {},
   "source": [
    "<span style=\"color:red\">11. Produce a histogram that summarizes undergraduate populations for all colleges with the origin starting at zero.</span>"
   ]
  },
  {
   "cell_type": "code",
   "execution_count": null,
   "metadata": {},
   "outputs": [],
   "source": []
  },
  {
   "cell_type": "markdown",
   "metadata": {},
   "source": [
    "<span style=\"color:red\">12. Produce a new histogram that summarizes undergraduate populations for all colleges with the origin starting at zero and the width of bins is set to 5000.</span>"
   ]
  },
  {
   "cell_type": "code",
   "execution_count": null,
   "metadata": {},
   "outputs": [],
   "source": []
  },
  {
   "cell_type": "markdown",
   "metadata": {},
   "source": [
    "<span style=\"color:red\">13. Redraw your histogram from step 10, where the width of the plot is twice the height.</span>"
   ]
  },
  {
   "cell_type": "code",
   "execution_count": null,
   "metadata": {},
   "outputs": [],
   "source": []
  },
  {
   "cell_type": "markdown",
   "metadata": {},
   "source": [
    "<span style=\"color:red\">14. Produce a graph using the ggplot geometry function `geom_jitter`, plotting the institutional type (*control* variable) versus cost (*tuition* variable) and coloring the marks by the average SAT score (*sat_avg* variable).</span>"
   ]
  },
  {
   "cell_type": "code",
   "execution_count": null,
   "metadata": {},
   "outputs": [],
   "source": []
  },
  {
   "cell_type": "markdown",
   "metadata": {},
   "source": [
    "<span style=\"color:red\">15. Create a box plot of tuition and institution type.</span>"
   ]
  },
  {
   "cell_type": "code",
   "execution_count": null,
   "metadata": {},
   "outputs": [],
   "source": []
  },
  {
   "cell_type": "markdown",
   "metadata": {},
   "source": [
    "<span style=\"color:red\">16. Create a final visualization with the following constraints/guidelines:<br/></span>\n",
    "<span style=\"color:red\">- Title: *Number of Schools in Different Regions of the United States*<br/></span>\n",
    "<span style=\"color:red\">- Subtitle: *Source: U.S. Department of Education*<br/></span>\n",
    "<span style=\"color:red\">- Graph should have a blank background for panel<br/></span>\n",
    "<span style=\"color:red\">- Graph should have a blank background for plot<br/></span>\n",
    "<span style=\"color:red\">- X Axis Label: Region<br/></span>\n",
    "<span style=\"color:red\">- Y Axis Label: Number of Schools<br/></span>\n",
    "<span style=\"color:red\">- Legend Label: Institution Type<br/></span>\n",
    "<span style=\"color:red\">- Fill Colors: *Red* for private schools and *Black* for public schools<br/></span>\n",
    "<span style=\"color:red\">- Legend Location: bottom of graph with items all on one line and a keywidth of 2.5<br/></span>\n",
    "<span style=\"color:red\">- Range for Y axis: 0 to 500</span>"
   ]
  },
  {
   "cell_type": "code",
   "execution_count": null,
   "metadata": {},
   "outputs": [],
   "source": []
  },
  {
   "cell_type": "markdown",
   "metadata": {},
   "source": [
    "<span style=\"color:red\">17. Create a map of colleges in Illinois, showing the difference in institutional type and relative size of undergraduate populations. Consider this a final visualization with appropriate labels and legends.</span>"
   ]
  },
  {
   "cell_type": "code",
   "execution_count": null,
   "metadata": {},
   "outputs": [],
   "source": []
  },
  {
   "cell_type": "markdown",
   "metadata": {},
   "source": [
    "## Optional Exercises - Very Helpful for Upcoming Projects"
   ]
  },
  {
   "cell_type": "markdown",
   "metadata": {},
   "source": [
    "<span style=\"color:red\">18. Obtain a personenl Goggle Map API key. Setup your R environment to use the new key. You DO NOT need to install devtools but you do need to register for your own key.</span>"
   ]
  },
  {
   "cell_type": "code",
   "execution_count": null,
   "metadata": {},
   "outputs": [],
   "source": []
  },
  {
   "cell_type": "markdown",
   "metadata": {},
   "source": [
    "<span style=\"color:red\">19. Use qmap to plot a map of *DeKalb, IL* at a zoom factor of 12.</span>"
   ]
  },
  {
   "cell_type": "code",
   "execution_count": null,
   "metadata": {},
   "outputs": [],
   "source": []
  },
  {
   "cell_type": "markdown",
   "metadata": {},
   "source": [
    "<span style=\"color:red\">20. Get a map of *DeKalb, IL* at a zoom factor of 15 and plot using the `ggmap` function.</span>"
   ]
  },
  {
   "cell_type": "code",
   "execution_count": null,
   "metadata": {},
   "outputs": [],
   "source": []
  },
  {
   "cell_type": "markdown",
   "metadata": {},
   "source": [
    "<span style=\"color:red\">21. Using the `geocode` function, get latitude and longitude for *DeKalb, IL*, get second latitude and longitude for the *Egyptian Theatre in DeKalb, Illinois*, display the results.</span>"
   ]
  },
  {
   "cell_type": "code",
   "execution_count": null,
   "metadata": {},
   "outputs": [],
   "source": []
  },
  {
   "cell_type": "markdown",
   "metadata": {},
   "source": [
    "<span style=\"color:red\">22. Use `ggmap` to create a actual map stored in variable but calling `get_map` within the ggmap for *Egyptian Theatre in DeKalb, Illinois*.</span>"
   ]
  },
  {
   "cell_type": "code",
   "execution_count": null,
   "metadata": {},
   "outputs": [],
   "source": []
  },
  {
   "cell_type": "markdown",
   "metadata": {},
   "source": [
    "<span style=\"color:red\">23. Create a map using `ggmap` for *DeKalb, IL*, with a zoom factor of 15 and a maptype of *toner-lite*. On that map place a red dot to mark the *Egyptian Theater*.</span>"
   ]
  },
  {
   "cell_type": "code",
   "execution_count": null,
   "metadata": {},
   "outputs": [],
   "source": []
  }
 ],
 "metadata": {
  "kernelspec": {
   "display_name": "R",
   "language": "R",
   "name": "ir"
  },
  "language_info": {
   "codemirror_mode": "r",
   "file_extension": ".r",
   "mimetype": "text/x-r-source",
   "name": "R",
   "pygments_lexer": "r",
   "version": "3.5.1"
  }
 },
 "nbformat": 4,
 "nbformat_minor": 2
}
